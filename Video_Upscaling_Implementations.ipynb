{
  "cells": [
    {
      "cell_type": "code",
      "execution_count": 1,
      "id": "86746a79",
      "metadata": {
        "id": "86746a79"
      },
      "outputs": [],
      "source": [
        "import os\n",
        "import time\n",
        "from PIL import Image\n",
        "import numpy as np\n",
        "import tensorflow as tf\n",
        "import tensorflow_hub as hub\n",
        "import matplotlib.pyplot as plt\n",
        "os.environ[\"TFHUB_DOWNLOAD_PROGRESS\"] = \"True\""
      ]
    },
    {
      "cell_type": "code",
      "execution_count": 4,
      "id": "7f25b1d6",
      "metadata": {
        "id": "7f25b1d6"
      },
      "outputs": [],
      "source": [
        "# Declaring Constants\n",
        "IMAGE_PATH = \"Sample_img.png\"\n",
        "SAVED_MODEL_PATH = \"https://tfhub.dev/captain-pool/esrgan-tf2/1\""
      ]
    },
    {
      "cell_type": "code",
      "execution_count": 8,
      "id": "1e302d5a",
      "metadata": {
        "id": "1e302d5a"
      },
      "outputs": [],
      "source": [
        "def preprocess_image(image_path):\n",
        "  \"\"\" Loads image from path and preprocesses to make it model ready\n",
        "      Args:\n",
        "        image_path: Path to the image file\n",
        "  \"\"\"\n",
        "  hr_image = tf.image.decode_image(tf.io.read_file(image_path))\n",
        "  # If PNG, remove the alpha channel. The model only supports\n",
        "  # images with 3 color channels.\n",
        "  if hr_image.shape[-1] == 4:\n",
        "    hr_image = hr_image[...,:-1]\n",
        "  hr_size = (tf.convert_to_tensor(hr_image.shape[:-1]) // 4) * 4\n",
        "  hr_image = tf.image.crop_to_bounding_box(hr_image, 0, 0, hr_size[0], hr_size[1])\n",
        "  hr_image = tf.cast(hr_image, tf.float32)\n",
        "  return tf.expand_dims(hr_image, 0)\n",
        "\n",
        "def save_image(image, filename):\n",
        "  \"\"\"\n",
        "    Saves unscaled Tensor Images.\n",
        "    Args:\n",
        "      image: 3D image tensor. [height, width, channels]\n",
        "      filename: Name of the file to save.\n",
        "  \"\"\"\n",
        "  if not isinstance(image, Image.Image):\n",
        "    image = tf.clip_by_value(image, 0, 255)\n",
        "    image = Image.fromarray(tf.cast(image, tf.uint8).numpy())\n",
        "  image.save(\"%s.jpg\" % filename)\n",
        "  print(\"Saved as %s.jpg\" % filename)\n",
        "\n",
        "processed_image = preprocess_image(IMAGE_PATH)\n",
        "save_image(processed_image, \"Sample_img.png\")"
      ]
    },
    {
      "cell_type": "code",
      "execution_count": 10,
      "id": "4cd9ef66",
      "metadata": {
        "id": "4cd9ef66"
      },
      "outputs": [],
      "source": [
        "%matplotlib inline\n",
        "def plot_image(image, title=\"\"):\n",
        "  \"\"\"\n",
        "    Plots images from image tensors.\n",
        "    Args:\n",
        "      image: 3D image tensor. [height, width, channels].\n",
        "      title: Title to display in the plot.\n",
        "  \"\"\"\n",
        "  image = np.asarray(image)\n",
        "  image = tf.clip_by_value(image, 0, 255)\n",
        "  image = Image.fromarray(tf.cast(image, tf.uint8).numpy())\n",
        "  plt.imshow(image)\n",
        "  plt.axis(\"off\")\n",
        "  plt.title(title)"
      ]
    },
    {
      "cell_type": "code",
      "execution_count": 11,
      "id": "816a1a0e",
      "metadata": {
        "colab": {
          "base_uri": "https://localhost:8080/"
        },
        "id": "816a1a0e",
        "outputId": "685c8cd6-cd01-4808-d240-b0def0a3082d"
      },
      "outputs": [
        {
          "output_type": "stream",
          "name": "stdout",
          "text": [
            "Downloaded https://tfhub.dev/captain-pool/esrgan-tf2/1, Total size: 20.60MB\n",
            "\n"
          ]
        }
      ],
      "source": [
        "model = hub.load(SAVED_MODEL_PATH)"
      ]
    },
    {
      "cell_type": "code",
      "execution_count": 12,
      "id": "35f18722",
      "metadata": {
        "colab": {
          "base_uri": "https://localhost:8080/"
        },
        "id": "35f18722",
        "outputId": "495311dd-2e0d-4408-dbeb-f05651c61227"
      },
      "outputs": [
        {
          "output_type": "stream",
          "name": "stdout",
          "text": [
            "Requirement already satisfied: tensorflow_hub in /usr/local/lib/python3.10/dist-packages (0.15.0)\n",
            "Requirement already satisfied: numpy>=1.12.0 in /usr/local/lib/python3.10/dist-packages (from tensorflow_hub) (1.23.5)\n",
            "Requirement already satisfied: protobuf>=3.19.6 in /usr/local/lib/python3.10/dist-packages (from tensorflow_hub) (3.20.3)\n"
          ]
        }
      ],
      "source": [
        "pip install tensorflow_hub"
      ]
    },
    {
      "cell_type": "code",
      "execution_count": null,
      "id": "f0ed1c92",
      "metadata": {
        "id": "f0ed1c92"
      },
      "outputs": [],
      "source": [
        "import cv2\n",
        "import os\n",
        "\n",
        "def extract_frames(video_path, output_folder):\n",
        "    # Create output folder if it does not exist\n",
        "    if not os.path.exists(output_folder):\n",
        "        os.makedirs(output_folder)\n",
        "\n",
        "    # Open video file\n",
        "    cap = cv2.VideoCapture(video_path)\n",
        "\n",
        "    # Get total number of frames in the video\n",
        "    total_frames = int(cap.get(cv2.CAP_PROP_FRAME_COUNT))\n",
        "\n",
        "    # Loop through all frames\n",
        "    for i in range(total_frames):\n",
        "        # Read frame\n",
        "        ret, frame = cap.read()\n",
        "        if not ret:\n",
        "            break\n",
        "\n",
        "        # Save frame as image\n",
        "        cv2.imwrite(os.path.join(output_folder, f\"frame{i:06d}.png\"), frame)\n",
        "\n",
        "    # Release video file\n",
        "    cap.release()\n"
      ]
    },
    {
      "cell_type": "code",
      "execution_count": null,
      "id": "cb902fa1",
      "metadata": {
        "id": "cb902fa1"
      },
      "outputs": [],
      "source": [
        "extract_frames(\"/Video_Low_Resolu.mp4\", \"/out\")"
      ]
    },
    {
      "cell_type": "code",
      "execution_count": null,
      "id": "beb5b691",
      "metadata": {
        "id": "beb5b691"
      },
      "outputs": [],
      "source": [
        "import os\n",
        "import tensorflow as tf\n",
        "from PIL import Image\n",
        "\n",
        "# Define input and output directories\n",
        "input_dir = \"/out\"\n",
        "output_dir = \"/output\"\n",
        "\n",
        "# Loop through all the images in the input directory\n",
        "for filename in os.listdir(input_dir):\n",
        "    # Load the input image\n",
        "    input_path = os.path.join(input_dir, filename)\n",
        "    hr_image = preprocess_image(input_path)\n",
        "\n",
        "    # Perform ISR using the ESRGAN model\n",
        "    output_image = model(hr_image)\n",
        "\n",
        "    # Remove extra dimension from output image array\n",
        "    output_image = output_image[0]\n",
        "\n",
        "    # Convert the image array to a PIL image\n",
        "    output_image = tf.keras.preprocessing.image.array_to_img(output_image)\n",
        "    output_image = output_image.resize((406,720), resample=Image.Resampling.BICUBIC)\n",
        "\n",
        "    # Save the image to the output directory\n",
        "    output_path = os.path.join(output_dir, filename)\n",
        "    output_image.save(output_path)\n"
      ]
    },
    {
      "cell_type": "code",
      "execution_count": null,
      "id": "1661916d",
      "metadata": {
        "id": "1661916d"
      },
      "outputs": [],
      "source": [
        "fps = 30.0\n",
        "frame_size = (406, 720)\n",
        "fourcc = cv2.VideoWriter_fourcc(*'mp4v')"
      ]
    },
    {
      "cell_type": "code",
      "execution_count": null,
      "id": "4892c0d1",
      "metadata": {
        "id": "4892c0d1"
      },
      "outputs": [],
      "source": [
        "# Create a VideoWriter object\n",
        "outing = cv2.VideoWriter('bcd.mp4', fourcc, fps, frame_size)\n"
      ]
    },
    {
      "cell_type": "code",
      "execution_count": null,
      "id": "0cc57e3f",
      "metadata": {
        "id": "0cc57e3f"
      },
      "outputs": [],
      "source": [
        "# Get a list of all the frames in the folder\n",
        "frame_folder = 'C:/Users/sidda/OneDrive/Desktop/output'\n",
        "frames = [os.path.join(frame_folder, f) for f in os.listdir(frame_folder)]\n",
        "\n",
        "# Loop through each frame and add it to the video\n",
        "for frame in frames:\n",
        "    # Read the frame image\n",
        "    img = cv2.imread(frame)\n",
        "\n",
        "    # Resize the frame to the video frame size\n",
        "    img = cv2.resize(img, frame_size)\n",
        "\n",
        "    # Write the frame to the video\n",
        "    outing.write(img)"
      ]
    },
    {
      "cell_type": "code",
      "execution_count": null,
      "id": "959a50d6",
      "metadata": {
        "id": "959a50d6",
        "outputId": "99a9ec3e-479e-4682-8bee-33c51c2d1837"
      },
      "outputs": [
        {
          "data": {
            "text/plain": [
              "< cv2.VideoWriter 0000021312CF6FB0>"
            ]
          },
          "execution_count": 27,
          "metadata": {},
          "output_type": "execute_result"
        }
      ],
      "source": [
        "outing"
      ]
    },
    {
      "cell_type": "code",
      "execution_count": null,
      "id": "cb57eeac",
      "metadata": {
        "id": "cb57eeac"
      },
      "outputs": [],
      "source": [
        "# Release the VideoWriter and close any open windows\n",
        "outing.release()\n",
        "cv2.destroyAllWindows()\n"
      ]
    },
    {
      "cell_type": "code",
      "execution_count": null,
      "id": "d626ebbf",
      "metadata": {
        "id": "d626ebbf"
      },
      "outputs": [],
      "source": []
    }
  ],
  "metadata": {
    "kernelspec": {
      "display_name": "Python 3 (ipykernel)",
      "language": "python",
      "name": "python3"
    },
    "language_info": {
      "codemirror_mode": {
        "name": "ipython",
        "version": 3
      },
      "file_extension": ".py",
      "mimetype": "text/x-python",
      "name": "python",
      "nbconvert_exporter": "python",
      "pygments_lexer": "ipython3",
      "version": "3.11.1"
    },
    "colab": {
      "provenance": []
    }
  },
  "nbformat": 4,
  "nbformat_minor": 5
}